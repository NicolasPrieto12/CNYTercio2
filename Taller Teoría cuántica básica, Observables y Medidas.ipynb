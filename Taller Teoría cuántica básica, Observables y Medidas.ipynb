{
 "cells": [
  {
   "cell_type": "markdown",
   "id": "366551f0-0cfb-4505-b22d-094523aba53b",
   "metadata": {},
   "source": [
    "# SIMULE EL PRIMER SISTEMA CUÁNTICO NUEVO DESCRITO EN LA SECCIÓN 4.1.\n",
    "## El sistema consiste en una partícula confinada a un conjunto discreto de posiciones en una línea. El simulador debe permitir especificar el número de posiciones y un vector ket de estado asignando las amplitudes.\n",
    "### 1. El sistema debe calcular la probabilidad de encontrarlo en una posición en particular.\n",
    "### Solución"
   ]
  },
  {
   "cell_type": "code",
   "execution_count": 1,
   "id": "c97e3b10-08bc-4158-81bb-64d210e85dbd",
   "metadata": {},
   "outputs": [
    {
     "name": "stdout",
     "output_type": "stream",
     "text": [
      "Punto 1:\n",
      "La probabilidad en la posición 0 es: 0.0008183306055646482 %\n"
     ]
    }
   ],
   "source": [
    "import numpy as np\n",
    "from sys import stdin\n",
    "\n",
    "vec = np.array([1, 2, 34, 5, 6])\n",
    "pos = 0\n",
    "\n",
    "num = np.abs(vec[pos]) ** 2\n",
    "denom = np.linalg.norm(vec) ** 2\n",
    "\n",
    "if denom == 0:\n",
    "    raise ValueError(\"Error: División entre cero detectada\")\n",
    "\n",
    "prob = (num / denom).item()\n",
    "\n",
    "print(\"Punto 1:\\nLa probabilidad en la posición\", pos, \"es:\", prob, \"%\")"
   ]
  },
  {
   "cell_type": "markdown",
   "id": "8545bf44-ee1c-4d2f-9324-3ce8d769f47e",
   "metadata": {},
   "source": [
    "### 2. El sistema si se le da otro vector Ket debe buscar la probabilidad de transitar del primer vector al segundo.\n",
    "### Solución"
   ]
  },
  {
   "cell_type": "code",
   "execution_count": 3,
   "id": "fb393ba1-6056-4890-9c36-e6bad5340fa7",
   "metadata": {},
   "outputs": [
    {
     "name": "stdout",
     "output_type": "stream",
     "text": [
      "Punto 2:\n",
      "Primer vector: [1 2 3 4 5 6] \n",
      "Segundo vector: [0 0 3 0 0 0]\n",
      "La probabilidad de transitar del primer vector al segundo es de: 0.0989010989010989 %\n"
     ]
    }
   ],
   "source": [
    "import numpy as np\n",
    "\n",
    "vec_a = np.array([1, 2, 3, 4, 5, 6])\n",
    "target_pos = 2\n",
    "\n",
    "vec_b = np.array([(0 if i != target_pos else vec_a[i].item()) for i in range(len(vec_a))])\n",
    "print(\"Punto 2:\\nPrimer vector:\", vec_a, \"\\nSegundo vector:\", vec_b)\n",
    "\n",
    "vec_a = vec_a / np.linalg.norm(vec_a)\n",
    "vec_b = vec_b / np.linalg.norm(vec_b)\n",
    "\n",
    "dot_prod = np.vdot(vec_b, vec_a)\n",
    "trans_prob = (np.abs(dot_prod)) ** 2\n",
    "final_result = trans_prob.item()\n",
    "\n",
    "print(\"La probabilidad de transitar del primer vector al segundo es de:\", final_result, \"%\")\n"
   ]
  },
  {
   "cell_type": "markdown",
   "id": "ddbe5d5d-ec80-4cad-9eb0-2c1e88da3b67",
   "metadata": {},
   "source": [
    "# COMPLETE LOS RETOS DE PROGRAMACIÓN DEL CAPÍTULO 4.\n",
    "### 1. Amplitud de transición. El sistema puede recibir dos vectores y calcular la probabilidad de transitar de el uno al otro después de hacer la observación\n",
    "### Solución"
   ]
  },
  {
   "cell_type": "code",
   "execution_count": 5,
   "id": "dcad23cb-bebe-4617-865a-ac7517e6d955",
   "metadata": {},
   "outputs": [
    {
     "name": "stdout",
     "output_type": "stream",
     "text": [
      "La probabilidad de transición es: 0\n"
     ]
    }
   ],
   "source": [
    "import numpy as np\n",
    "\n",
    "vec_a = np.array([1, 0, 0])  \n",
    "vec_b = np.array([0, 0, 1]) \n",
    "\n",
    "trans_amp = np.dot(vec_b.conj(), vec_a)\n",
    "\n",
    "trans_prob = np.abs(trans_amp) ** 2\n",
    "\n",
    "print(\"La probabilidad de transición es:\", trans_prob)"
   ]
  },
  {
   "cell_type": "markdown",
   "id": "0b00ab64-9c59-4943-a7a2-a60144ee70dc",
   "metadata": {},
   "source": [
    "### 2. Ahora con una matriz que describa un observable y un vector ket, el sistema revisa que la matriz sea hermitiana, y si lo es, calcula la media y la varianza del observable en el estado dado.\n",
    "### Solución"
   ]
  },
  {
   "cell_type": "code",
   "execution_count": 7,
   "id": "efe243ed-e089-4a61-8f9c-abe42827ede9",
   "metadata": {},
   "outputs": [
    {
     "name": "stdout",
     "output_type": "stream",
     "text": [
      "La media del observable es: 2.5000000000000004\n",
      "La varianza del observable es: 0.25\n"
     ]
    }
   ],
   "source": [
    "import numpy as np\n",
    "\n",
    "def calcular_media_y_varianza(mat, vec_estado):\n",
    "    \n",
    "    if not np.allclose(mat, mat.conj().T):\n",
    "        return \"La matriz proporcionada no es hermítica\"\n",
    "\n",
    "    media = np.dot(vec_estado.conj().T, np.dot(mat, vec_estado)).real\n",
    "\n",
    "    vec_transformado = np.dot(mat, vec_estado)\n",
    "    varianza = np.dot(vec_estado.conj().T, np.dot(mat, vec_transformado)).real - media ** 2\n",
    "\n",
    "    return media, varianza\n",
    "\n",
    "\n",
    "mat_observable = np.array([[1, 1j], [-1j, 2]])\n",
    "ket_vec = np.array([np.sqrt(2)/2, np.sqrt(2)/2j])\n",
    "\n",
    "media, varianza = calcular_media_y_varianza(mat_observable, ket_vec)\n",
    "\n",
    "print(\"La media del observable es:\", media.item())\n",
    "print(\"La varianza del observable es:\", varianza.item())\n"
   ]
  },
  {
   "cell_type": "markdown",
   "id": "f3b9f9f4-109b-4edc-9a37-c705bbdfa9b4",
   "metadata": {},
   "source": [
    "### 3. El sistema calcula los valores propios del observable y la probabilidad de que el sistema transite a alguno de los vectores propios después de la observación.\n",
    "### solución"
   ]
  },
  {
   "cell_type": "code",
   "execution_count": 9,
   "id": "e607e4da-4d80-47bb-921c-cf2cf62c68f0",
   "metadata": {},
   "outputs": [
    {
     "name": "stdout",
     "output_type": "stream",
     "text": [
      "Autovalores del observable: [ 1. -1.]\n",
      "Probabilidades de transición hacia los autovectores: [[1.]\n",
      " [0.]]\n"
     ]
    }
   ],
   "source": [
    "import numpy as np\n",
    "\n",
    "def calcular_probabilidad_de_transicion(mat_observable, vec_estado):\n",
    "   \n",
    "    eigenvalores, eigenvectores = np.linalg.eig(mat_observable)\n",
    "\n",
    "    prob_transiciones = np.abs(np.dot(eigenvectores.conj().T, vec_estado)) ** 2\n",
    "\n",
    "    return eigenvalores, prob_transiciones\n",
    "\n",
    "# Datos\n",
    "mat_observable = np.array([[1, 0], [0, -1]])  \n",
    "ket_vec = np.array([[1], [0]]) \n",
    "\n",
    "eigenvalores, prob_transiciones = calcular_probabilidad_de_transicion(mat_observable, ket_vec)\n",
    "\n",
    "print(\"Autovalores del observable:\", eigenvalores)\n",
    "print(\"Probabilidades de transición hacia los autovectores:\", prob_transiciones)\n"
   ]
  },
  {
   "cell_type": "markdown",
   "id": "3a1768a8-287c-4485-abfe-2405f40efe75",
   "metadata": {},
   "source": [
    "### 4. Se considera la dinámica del sistema. Ahora con una serie de matrices Un el sistema calcula el estado final a partir de un estado inicial.\n",
    "### solución"
   ]
  },
  {
   "cell_type": "code",
   "execution_count": 11,
   "id": "67904a8c-a94a-4ea3-bb17-96015e03f7a0",
   "metadata": {},
   "outputs": [
    {
     "name": "stdout",
     "output_type": "stream",
     "text": [
      "El estado final del sistema es: [0 1]\n"
     ]
    }
   ],
   "source": [
    "import numpy as np\n",
    "\n",
    "def obtener_estado_final(estado_inicial, unitarias):\n",
    "    estado_actual = estado_inicial\n",
    "    for matriz_unitaria in unitarias:\n",
    "        estado_actual = np.dot(matriz_unitaria, estado_actual)\n",
    "    return estado_actual\n",
    "\n",
    "# Datos\n",
    "estado_inicial = np.array([1, 0])  \n",
    "matrices_unitarias = [np.array([[0, 1], [1, 0]]), \n",
    "                      np.array([[1, 0], [0, 1]])]\n",
    "\n",
    "estado_final = obtener_estado_final(estado_inicial, matrices_unitarias)\n",
    "print(\"El estado final del sistema es:\", estado_final)\n"
   ]
  },
  {
   "cell_type": "markdown",
   "id": "82dd60c0-74f0-4bc7-88ef-a6cb565de179",
   "metadata": {},
   "source": [
    "# REALICE LOS SIGUIENTES PROBLEMAS E INCLUYALOS COMO EJEMPLOS\n",
    "### Modele en su librería los problemas:\n"
   ]
  },
  {
   "cell_type": "markdown",
   "id": "864f0043-0e64-4ee8-9dbc-ed7ea0b253ab",
   "metadata": {},
   "source": [
    "#### 4.3.1\n",
    "#### Find all the possible states the system described in Exercise 4.2.2 can transition into after a measurement has been carried out.\n",
    "### Solucion"
   ]
  },
  {
   "cell_type": "code",
   "execution_count": 13,
   "id": "0175fb86-dcb4-4c4f-923a-2f109aa07516",
   "metadata": {},
   "outputs": [
    {
     "name": "stdout",
     "output_type": "stream",
     "text": [
      "El estado final del sistema es: [0 1]\n"
     ]
    }
   ],
   "source": [
    "import numpy as np\n",
    "\n",
    "def calcular_estado_final(vec_inicial, unitarios):\n",
    "    vec_actual = vec_inicial\n",
    "    for operador in unitarios:\n",
    "        vec_actual = np.dot(operador, vec_actual)\n",
    "    return vec_actual\n",
    "\n",
    "# Datos\n",
    "vec_inicial = np.array([1, 0])  \n",
    "matrices_unitarias = [np.array([[0, 1], [1, 0]]), \n",
    "                      np.array([[1, 0], [0, 1]])]\n",
    "\n",
    "vec_final = calcular_estado_final(vec_inicial, matrices_unitarias)\n",
    "print(\"El estado final del sistema es:\", vec_final)\n",
    "\n"
   ]
  },
  {
   "cell_type": "markdown",
   "id": "da982b39-49ee-4c79-aee9-60940ccf556c",
   "metadata": {},
   "source": [
    "#### 4.3.2"
   ]
  },
  {
   "cell_type": "markdown",
   "id": "27ee76f1-86c1-4396-9e2a-6ad536d9ee4c",
   "metadata": {},
   "source": [
    "#### Perform the same calculations as in the last example, using Exercise 4.3.1. Then draw the probability distribution of the eigenvalues as in the previous example.\n",
    "### solución"
   ]
  },
  {
   "cell_type": "code",
   "execution_count": 15,
   "id": "f0cf4161-0dc5-431a-95ff-7839a859fc84",
   "metadata": {},
   "outputs": [
    {
     "name": "stdout",
     "output_type": "stream",
     "text": [
      "Probabilidad de transición en spin up: 0\n",
      "Probabilidad de transición en spin down: 1\n"
     ]
    },
    {
     "data": {
      "image/png": "[encoded data removed]",
      "text/plain": [
       "<Figure size 640x480 with 1 Axes>"
      ]
     },
     "metadata": {},
     "output_type": "display_data"
    }
   ],
   "source": [
    "import numpy as np\n",
    "import matplotlib.pyplot as plt\n",
    "\n",
    "vec_inicial = np.array([1, 0])\n",
    "\n",
    "operador_y = np.array([[0, 1], [1, 0]])\n",
    "\n",
    "vec_resultante = np.dot(operador_y, vec_inicial)\n",
    "\n",
    "prob_up = abs(vec_resultante[0]) ** 2\n",
    "prob_down = abs(vec_resultante[1]) ** 2\n",
    "\n",
    "print(\"Probabilidad de transición en spin up:\", prob_up)\n",
    "print(\"Probabilidad de transición en spin down:\", prob_down)\n",
    "\n",
    "eigenvalores, _ = np.linalg.eig(operador_y)\n",
    "\n",
    "plt.bar(np.arange(len(eigenvalores)), abs(vec_resultante) ** 2)\n",
    "plt.xticks(np.arange(len(eigenvalores)), eigenvalores)\n",
    "plt.xlabel('Autovalores')\n",
    "plt.ylabel('Probabilidad')\n",
    "plt.title('Distribución de probabilidad para los autovalores')\n",
    "plt.show()\n",
    "\n",
    "\n",
    "\n"
   ]
  },
  {
   "cell_type": "markdown",
   "id": "733e6f21-ed47-4c4c-806a-1680fbe97dd5",
   "metadata": {},
   "source": [
    "### Desarrolle e incluya en el Github una discusión de los ejercicios: "
   ]
  },
  {
   "cell_type": "markdown",
   "id": "69a38e19-e15b-40b0-aed5-6ec7b10d56b2",
   "metadata": {},
   "source": [
    "### 4.4.1"
   ]
  },
  {
   "cell_type": "markdown",
   "id": "cac9fef5-a3e9-42db-822d-7e0f92321803",
   "metadata": {},
   "source": [
    "### Verify that\n",
    "$ U_1= \\begin{pmatrix} 0 & 1 \\\\ 1 & 0 \\\\ \\end{pmatrix}and...U_2= \\begin{pmatrix}  \\frac{\\sqrt{2}}{2} & \\frac{\\sqrt{2}}{2} \\\\ \\frac{\\sqrt{2}}{2} & -\\frac{\\sqrt{2}}{2} \\\\ \\end{pmatrix} $\n",
    "\n",
    "### are unitary matrices. Multiply them and verify that their product is also unitary.\n",
    "### Solución"
   ]
  },
  {
   "cell_type": "code",
   "execution_count": 8,
   "id": "e99bb488-271c-4e59-870b-15f9608c153b",
   "metadata": {},
   "outputs": [
    {
     "name": "stdout",
     "output_type": "stream",
     "text": [
      "A es unitaria\n",
      "B es unitaria\n",
      "El producto de A y B es unitario\n"
     ]
    }
   ],
   "source": [
    "import numpy as np\n",
    "\n",
    "\n",
    "A = np.array([[0, 1], [1, 0]])\n",
    "B = np.array([[np.sqrt(2) / 2, np.sqrt(2) / 2], [np.sqrt(2) / 2, -np.sqrt(2) / 2]])\n",
    "\n",
    "\n",
    "es_unitaria_A = \"es\" if np.allclose(np.dot(A.conj().T, A), np.eye(2)) else \"no es\"\n",
    "\n",
    "\n",
    "es_unitaria_B = \"es\" if np.allclose(np.dot(B.conj().T, B), np.eye(2)) else \"no es\"\n",
    "\n",
    "\n",
    "producto_AB = np.dot(A, B)\n",
    "\n",
    "\n",
    "es_unitario_producto = \"es\" if np.allclose(np.dot(producto_AB.conj().T, producto_AB), np.eye(2)) else \"no es\"\n",
    "\n",
    "\n",
    "print(\"A\", es_unitaria_A, \"unitaria\")\n",
    "print(\"B\", es_unitaria_B, \"unitaria\")\n",
    "print(\"El producto de A y B\", es_unitario_producto, \"unitario\")\n",
    "\n"
   ]
  },
  {
   "cell_type": "markdown",
   "id": "6ab4de2f-22f8-4d7f-9976-4c0f45640076",
   "metadata": {},
   "source": [
    "### 4.4.2\n",
    "#### Regresa al Ejemplo 3.3.2 (bola de billar cuántica), mantén el mismo vector de estado inicial [1, 0, 0, 0]T, pero cambia el mapa unitario a\n",
    "\n",
    "\\begin{pmatrix} 0 & \\frac{1}{\\sqrt{2}}   & \\frac{1}{\\sqrt{2}}  & 0 \\\\ \n",
    "\\frac{i}{\\sqrt{2}} & 0  & 0 & \\frac{1}{\\sqrt{2}} \\\\ \n",
    "\\frac{1}{\\sqrt{2}} & 0  & 0 & \\frac{i}{\\sqrt{2}} \\\\ \n",
    "0 & \\frac{1}{\\sqrt{2}} & -\\frac{1}{\\sqrt{2}} & 0 \\\\ \n",
    "\\end{pmatrix}\n",
    "\n",
    "#### Determina el estado del sistema después de tres pasos de tiempo. ¿Cuál es la probabilidad de que se encuentre la bola cuántica en el punto 3?\n",
    "\n",
    "### Solución"
   ]
  },
  {
   "cell_type": "code",
   "execution_count": 27,
   "id": "3fb8a967-c351-4b90-9faf-d1e84dd1b44b",
   "metadata": {},
   "outputs": [
    {
     "name": "stdout",
     "output_type": "stream",
     "text": [
      "El estado del sistema después de 3 tiempos es: [ 0.        +0.j         -0.70710678+0.70710678j  0.        +0.j\n",
      "  0.        +0.j        ]\n",
      "Probabilidad de encontrar la bola en el punto 3: 0.0\n"
     ]
    }
   ],
   "source": [
    "import numpy as np\n",
    "\n",
    "transicion = np.array([\n",
    "    [0, 1 / np.sqrt(2), 1 / np.sqrt(2), 0],\n",
    "    [1j / np.sqrt(2), 0, 0, 1 / np.sqrt(2)],\n",
    "    [1 / np.sqrt(2), 0, 0, 1j / np.sqrt(2)],\n",
    "    [0, 1 / np.sqrt(2), -1 / np.sqrt(2), 0]\n",
    "])\n",
    "\n",
    "vec_inicial = np.array([1, 0, 0, 0])\n",
    "\n",
    "vec_final = np.linalg.matrix_power(transicion, 3) @ vec_inicial\n",
    "\n",
    "probabilidad_en_punto_3 = np.abs(vec_final[2]) ** 2\n",
    "\n",
    "print(\"El estado del sistema después de 3 tiempos es:\", vec_final)\n",
    "print(\"Probabilidad de encontrar la bola en el punto 3:\", probabilidad_en_punto_3)\n"
   ]
  },
  {
   "cell_type": "markdown",
   "id": "17c3d3ef-3f64-406d-af3c-b991f689669d",
   "metadata": {},
   "source": [
    "#### Escribe el vector de estado genérico para el sistema de dos partículas con espín. Generalízalo a un sistema con n partículas (esto es importante: ¡será la realización física para registros cuánticos!)."
   ]
  },
  {
   "cell_type": "markdown",
   "id": "d0fd962a-f546-46d8-b591-abd91a61764b",
   "metadata": {},
   "source": [
    "### Desarrolle e incluya en el Github una discusión de los ejercicios \n",
    "#### 4.5.2 \n",
    "##### Escribe el vector de estado genérico para el sistema de dos partículas con espín. Generalízalo a un sistema con n partículas (esto es importante: ¡será la realización física para registros cuánticos!).\n",
    "#### RTA:\n",
    "##### El vector de estado genérico para el sistema de dos partículas con espín, denotado como  ∣Ψ⟩, es el producto tensorial de los vectores de estado individuales:\n",
    "$ |\\Psi\\rangle = |\\psi_1\\rangle \\otimes |\\psi_2\\rangle $\n",
    "##### Para generalizar este concepto a un sistema con n partículas, podemos extender el producto tensorial para incluir todos los n vectores de estado individuales:\n",
    "$ |\\Psi\\rangle = |\\psi_1\\rangle \\otimes |\\psi_2\\rangle \\otimes \\ldots \\otimes |\\psi_n\\rangle$"
   ]
  },
  {
   "cell_type": "markdown",
   "id": "a5e22256-1075-41d1-bbf7-5bce7395d00b",
   "metadata": {},
   "source": [
    "### 4.5.3\n",
    "#### Supón el mismo escenario que en el Ejemplo 4.5.2 y deja\n",
    "$ |\\alpha\\rangle \\otimes |\\beta\\rangle = (a|x_0\\rangle + b|x_1\\rangle) \\otimes (c|y_0\\rangle + d|y_1\\rangle) $\n",
    "#### ¿Es este estado separable?\n",
    "#### RTA:\n",
    "##### Teniendo ∣ϕ⟩  en terminos de estado de la base:\n",
    "$|\\phi\\rangle = |x_0\\rangle \\otimes |y_1\\rangle + |x_1\\rangle \\otimes |y_1\\rangle$\n",
    "\n",
    "##### Intentamos expresar esto como un producto tensorial de dos estados. Buscaremos estados ∣α⟩ y ∣β⟩ tales que:\n",
    "$ |\\alpha\\rangle \\otimes |\\beta\\rangle = (a|x_0\\rangle + b|x_1\\rangle) \\otimes (c|y_0\\rangle + d|y_1\\rangle) $\n",
    "##### Expandiendo el producto tensorial, obtenemos:\n",
    "$ |\\alpha\\rangle \\otimes |\\beta\\rangle = ac|x_0\\rangle \\otimes |y_0\\rangle + ad|x_0\\rangle \\otimes |y_1\\rangle + bc|x_1\\rangle \\otimes |y_0\\rangle + bd|x_1\\rangle \\otimes |y_1\\rangle $\n",
    "\n",
    "##### Comparando esto con la expresión para ∣ϕ⟩, podemos ver que es imposible encontrar coeficientes a, b, c y d de manera que las dos expresiones sean iguales. \n",
    "##### En conclusión el estado ∣ϕ⟩ dado por la Ecuación no es separable. Está entrelazado.\n",
    "\n"
   ]
  },
  {
   "cell_type": "code",
   "execution_count": null,
   "id": "4fb8822b-4167-417e-95ce-6ff74cabd293",
   "metadata": {},
   "outputs": [],
   "source": []
  }
 ],
 "metadata": {
  "kernelspec": {
   "display_name": "Python 3 (ipykernel)",
   "language": "python",
   "name": "python3"
  },
  "language_info": {
   "codemirror_mode": {
    "name": "ipython",
    "version": 3
   },
   "file_extension": ".py",
   "mimetype": "text/x-python",
   "name": "python",
   "nbconvert_exporter": "python",
   "pygments_lexer": "ipython3",
   "version": "3.12.4"
  }
 },
 "nbformat": 4,
 "nbformat_minor": 5
}
